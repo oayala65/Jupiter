{
 "cells": [
  {
   "cell_type": "code",
   "execution_count": 3,
   "id": "638049b3",
   "metadata": {},
   "outputs": [],
   "source": [
    "def esdiv(x,y):\n",
    "    if x%y==0:\n",
    "        return 1\n",
    "    else:\n",
    "        return 0"
   ]
  },
  {
   "cell_type": "code",
   "execution_count": 4,
   "id": "0eab0de5",
   "metadata": {},
   "outputs": [
    {
     "data": {
      "text/plain": [
       "0"
      ]
     },
     "execution_count": 4,
     "metadata": {},
     "output_type": "execute_result"
    }
   ],
   "source": [
    "esdiv(7,3)"
   ]
  },
  {
   "cell_type": "code",
   "execution_count": 5,
   "id": "0d063bcb",
   "metadata": {},
   "outputs": [],
   "source": [
    "def factorial(n):\n",
    "    if n==0:\n",
    "        return 1\n",
    "    else:\n",
    "        recursivo=factorial(n-1)\n",
    "        resultado=n*recursivo\n",
    "        return resultado"
   ]
  },
  {
   "cell_type": "code",
   "execution_count": 8,
   "id": "af12d5fc",
   "metadata": {},
   "outputs": [
    {
     "data": {
      "text/plain": [
       "1"
      ]
     },
     "execution_count": 8,
     "metadata": {},
     "output_type": "execute_result"
    }
   ],
   "source": [
    "factorial(0)"
   ]
  },
  {
   "cell_type": "code",
   "execution_count": 22,
   "id": "d3a74790",
   "metadata": {},
   "outputs": [
    {
     "name": "stderr",
     "output_type": "stream",
     "text": [
      "C:\\Users\\OSVALD~2\\AppData\\Local\\Temp/ipykernel_51244/1741034954.py:6: RuntimeWarning: invalid value encountered in log\n",
      "  plt.plot(x,np.log(y),color='lightblue',linewidth=2)\n"
     ]
    },
    {
     "data": {
      "image/png": "[encoded data removed]",
      "text/plain": [
       "<Figure size 432x288 with 1 Axes>"
      ]
     },
     "metadata": {
      "needs_background": "light"
     },
     "output_type": "display_data"
    }
   ],
   "source": [
    "import numpy as np\n",
    "import matplotlib.pyplot as plt\n",
    "x=np.arange(100)\n",
    "y=np.random.randn(100)\n",
    "\n",
    "plt.plot(x,np.log(y),color='lightblue',linewidth=2)\n",
    "plt.show()"
   ]
  },
  {
   "cell_type": "code",
   "execution_count": null,
   "id": "9c4dc9dd",
   "metadata": {},
   "outputs": [],
   "source": []
  }
 ],
 "metadata": {
  "kernelspec": {
   "display_name": "Python 3 (ipykernel)",
   "language": "python",
   "name": "python3"
  },
  "language_info": {
   "codemirror_mode": {
    "name": "ipython",
    "version": 3
   },
   "file_extension": ".py",
   "mimetype": "text/x-python",
   "name": "python",
   "nbconvert_exporter": "python",
   "pygments_lexer": "ipython3",
   "version": "3.9.7"
  }
 },
 "nbformat": 4,
 "nbformat_minor": 5
}
